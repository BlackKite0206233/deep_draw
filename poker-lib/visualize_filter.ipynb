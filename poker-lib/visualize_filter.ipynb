{
 "cells": [
  {
   "cell_type": "code",
   "execution_count": 1,
   "metadata": {
    "collapsed": true
   },
   "outputs": [],
   "source": [
    "import numpy as np\n",
    "import pickle"
   ]
  },
  {
   "cell_type": "code",
   "execution_count": 7,
   "metadata": {
    "collapsed": false
   },
   "outputs": [],
   "source": [
    "%matplotlib inline\n",
    "import matplotlib.pyplot as plt"
   ]
  },
  {
   "cell_type": "code",
   "execution_count": 3,
   "metadata": {
    "collapsed": false
   },
   "outputs": [
    {
     "name": "stdout",
     "output_type": "stream",
     "text": [
      "['__add__', '__class__', '__contains__', '__delattr__', '__delitem__', '__delslice__', '__doc__', '__eq__', '__format__', '__ge__', '__getattribute__', '__getitem__', '__getslice__', '__gt__', '__hash__', '__iadd__', '__imul__', '__init__', '__iter__', '__le__', '__len__', '__lt__', '__mul__', '__ne__', '__new__', '__reduce__', '__reduce_ex__', '__repr__', '__reversed__', '__rmul__', '__setattr__', '__setitem__', '__setslice__', '__sizeof__', '__str__', '__subclasshook__', 'append', 'count', 'extend', 'index', 'insert', 'pop', 'remove', 'reverse', 'sort'] <type 'list'>\n"
     ]
    }
   ],
   "source": [
    "fn = 'deuce_events_conv_24_filter_xCards_xNumDraws_xContext_0.02_CNN_7_important_river_bets_percent_overtrained_500k.pickle'\n",
    "with open(fn,'rb') as fp:\n",
    "    data = pickle.load(fp)\n",
    "    print dir(data), type(data)"
   ]
  },
  {
   "cell_type": "code",
   "execution_count": 5,
   "metadata": {
    "collapsed": false
   },
   "outputs": [
    {
     "name": "stdout",
     "output_type": "stream",
     "text": [
      "layer  0 <type 'numpy.ndarray'> (24, 31, 3, 3)\n",
      "layer  1 <type 'numpy.ndarray'> (24,)\n",
      "layer  2 <type 'numpy.ndarray'> (24, 24, 3, 3)\n",
      "layer  3 <type 'numpy.ndarray'> (24,)\n",
      "layer  4 <type 'numpy.ndarray'> (48, 24, 3, 3)\n",
      "layer  5 <type 'numpy.ndarray'> (48,)\n",
      "layer  6 <type 'numpy.ndarray'> (48, 48, 3, 3)\n",
      "layer  7 <type 'numpy.ndarray'> (48,)\n",
      "layer  8 <type 'numpy.ndarray'> (192, 1024)\n",
      "layer  9 <type 'numpy.ndarray'> (1024,)\n",
      "layer  10 <type 'numpy.ndarray'> (1024, 32)\n",
      "layer  11 <type 'numpy.ndarray'> (32,)\n"
     ]
    }
   ],
   "source": [
    "for i, l in enumerate(data):\n",
    "    print 'layer ', i, type(l), l.shape"
   ]
  },
  {
   "cell_type": "code",
   "execution_count": 17,
   "metadata": {
    "collapsed": false
   },
   "outputs": [
    {
     "data": {
      "image/png": "[encoded data removed]",
      "text/plain": [
       "<matplotlib.figure.Figure at 0x10c8c1650>"
      ]
     },
     "metadata": {},
     "output_type": "display_data"
    }
   ],
   "source": [
    "a = data[0]\n",
    "n0, n1, d, d = a.shape\n",
    "nrow = 6\n",
    "for ii in range(3):\n",
    "    for jj in range(nrow):\n",
    "        plt.subplot(3, nrow, ii*nrow + jj)\n",
    "        fig = plt.imshow(a[ii, jj,:,:],interpolation='nearest', cmap=plt.cm.hot)\n",
    "        fig.axes.get_xaxis().set_visible(False)\n",
    "        fig.axes.get_yaxis().set_visible(False)\n",
    "plt.show()"
   ]
  },
  {
   "cell_type": "code",
   "execution_count": null,
   "metadata": {
    "collapsed": true
   },
   "outputs": [],
   "source": []
  }
 ],
 "metadata": {
  "kernelspec": {
   "display_name": "Python 2",
   "language": "python",
   "name": "python2"
  },
  "language_info": {
   "codemirror_mode": {
    "name": "ipython",
    "version": 2
   },
   "file_extension": ".py",
   "mimetype": "text/x-python",
   "name": "python",
   "nbconvert_exporter": "python",
   "pygments_lexer": "ipython2",
   "version": "2.7.10"
  }
 },
 "nbformat": 4,
 "nbformat_minor": 0
}
